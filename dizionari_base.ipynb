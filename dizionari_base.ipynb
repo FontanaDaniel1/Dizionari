{
  "nbformat": 4,
  "nbformat_minor": 0,
  "metadata": {
    "colab": {
      "provenance": [],
      "include_colab_link": true
    },
    "kernelspec": {
      "name": "python3",
      "display_name": "Python 3"
    },
    "language_info": {
      "name": "python"
    }
  },
  "cells": [
    {
      "cell_type": "markdown",
      "metadata": {
        "id": "view-in-github",
        "colab_type": "text"
      },
      "source": [
        "<a href=\"https://colab.research.google.com/github/FontanaDaniel1/Dizionari/blob/main/dizionari_base.ipynb\" target=\"_parent\"><img src=\"https://colab.research.google.com/assets/colab-badge.svg\" alt=\"Open In Colab\"/></a>"
      ]
    },
    {
      "cell_type": "code",
      "source": [
        "dizionarioITEN = {'uno': 'one', 'due': 'two', 'tre': 'three', 'quattro': 'four'}\n",
        "dizionarioITEN"
      ],
      "metadata": {
        "colab": {
          "base_uri": "https://localhost:8080/"
        },
        "id": "87BikGKrh_3J",
        "outputId": "11d34784-7e66-414e-f191-a8ddcde020ea"
      },
      "execution_count": null,
      "outputs": [
        {
          "output_type": "execute_result",
          "data": {
            "text/plain": [
              "{'uno': 'one', 'due': 'two', 'tre': 'three', 'quattro': 'four'}"
            ]
          },
          "metadata": {},
          "execution_count": 16
        }
      ]
    },
    {
      "cell_type": "code",
      "source": [
        "dizionarioITEN = dict(uno = 'one', due = 'two', tre = 'three', quattro = 'four')\n",
        "dizionarioITEN"
      ],
      "metadata": {
        "colab": {
          "base_uri": "https://localhost:8080/"
        },
        "id": "KCVnF4VShfdQ",
        "outputId": "7302898f-bae7-486c-a64c-ea5038fee41d"
      },
      "execution_count": null,
      "outputs": [
        {
          "output_type": "execute_result",
          "data": {
            "text/plain": [
              "{'uno': 'one', 'due': 'two', 'tre': 'three', 'quattro': 'four'}"
            ]
          },
          "metadata": {},
          "execution_count": 2
        }
      ]
    },
    {
      "cell_type": "code",
      "source": [
        "dizionarioITEN = dict([('uno', 'one'), ('due', 'two'), ('tre', 'three'), ('quattro', 'four')])\n",
        "dizionarioITEN #lista di tuple"
      ],
      "metadata": {
        "id": "t2WjPDoDiKrb"
      },
      "execution_count": null,
      "outputs": []
    },
    {
      "cell_type": "code",
      "source": [
        "numeriItaliani = ['uno', 'due', 'tre', 'quattro']"
      ],
      "metadata": {
        "id": "M2FygeFxdPkW"
      },
      "execution_count": null,
      "outputs": []
    },
    {
      "cell_type": "code",
      "source": [
        "englishNumbers = ['one', 'two', 'three', 'four']"
      ],
      "metadata": {
        "id": "rP_0WP6-dYv2"
      },
      "execution_count": null,
      "outputs": []
    },
    {
      "cell_type": "code",
      "source": [
        "dizionarioITEN = dict((numeroItaliano, englishNumber) for numeroItaliano, englishNumber in zip(numeriItaliani, englishNumbers)) #zip mette insieme le 2 liste\n",
        "dizionarioITEN  "
      ],
      "metadata": {
        "id": "YD2XVuoEdgsg"
      },
      "execution_count": null,
      "outputs": []
    },
    {
      "cell_type": "code",
      "source": [
        "len(dizionarioITEN) #num coppie"
      ],
      "metadata": {
        "id": "T8XFfup8gwut"
      },
      "execution_count": null,
      "outputs": []
    },
    {
      "cell_type": "code",
      "source": [
        "dizionarioITEN['cinque'] = 'five' #aggiunge una chiave e un valore\n",
        "dizionarioITEN"
      ],
      "metadata": {
        "id": "S4hCQZrseBBU"
      },
      "execution_count": null,
      "outputs": []
    },
    {
      "cell_type": "code",
      "source": [
        "dizionarioITEN['due'] #chiami il valore con la chiave"
      ],
      "metadata": {
        "id": "RHIH5t1WeMS7"
      },
      "execution_count": null,
      "outputs": []
    },
    {
      "cell_type": "code",
      "source": [
        "dizionarioITEN['dues'] #errore, non esiste la chiave 'dues'"
      ],
      "metadata": {
        "id": "arVcDDIbeTZ7"
      },
      "execution_count": null,
      "outputs": []
    },
    {
      "cell_type": "code",
      "source": [
        "if 'dues' in dizionarioITEN.keys(): #controlla se dues è una chiave \n",
        "  print(dizionarioITEN['dues'])     #se c'è stampa altrimenti stampa l'assenza\n",
        "else:\n",
        "  print('chiave non presente')"
      ],
      "metadata": {
        "id": "Dtv3BR8Mei31"
      },
      "execution_count": null,
      "outputs": []
    },
    {
      "cell_type": "code",
      "source": [
        "if 'dues' in dizionarioITEN: #senza usare il metodo keys,ma stessa identica cosa\n",
        "  print(dizionarioITEN['dues']) \n",
        "else:\n",
        "  print('chiave non presente')"
      ],
      "metadata": {
        "id": "BTHNollLf8jD"
      },
      "execution_count": null,
      "outputs": []
    },
    {
      "cell_type": "code",
      "source": [
        "dizionarioITEN.get('dues', 'chiave non presente') #se non c'è dues stampa 'chiave non presente' (modo più veloce) "
      ],
      "metadata": {
        "id": "QwYcz9Mqi8GV"
      },
      "execution_count": null,
      "outputs": []
    },
    {
      "cell_type": "code",
      "source": [
        "dizionarioITEN.setdefault('sette', 'seven') # prende il valore se c'è, altrimenti lo aggiunge"
      ],
      "metadata": {
        "id": "XpbsodFTjiq1"
      },
      "execution_count": null,
      "outputs": []
    },
    {
      "cell_type": "code",
      "source": [
        "dizionarioITEN #stampa per controllare"
      ],
      "metadata": {
        "id": "bSQT06F_DPF6"
      },
      "execution_count": null,
      "outputs": []
    },
    {
      "cell_type": "code",
      "source": [
        "if 'two' in dizionarioITEN.values(): # controlla se il valore 'two' è presente tra i valori del dizionario\n",
        "  print('valore presente')\n",
        "else:\n",
        "  print('valore non presente')"
      ],
      "metadata": {
        "id": "W3mMv40Nebqk"
      },
      "execution_count": null,
      "outputs": []
    },
    {
      "cell_type": "code",
      "source": [
        "for number in dizionarioITEN.values():\n",
        "  print(number) \n",
        "  #visualizza i valore corrispondenti alle chiavi"
      ],
      "metadata": {
        "id": "V7hk9LhFff15"
      },
      "execution_count": null,
      "outputs": []
    },
    {
      "cell_type": "code",
      "source": [
        "for number in dizionarioITEN.keys():\n",
        "  print(number) \n",
        "    #visualizza le chiavi corrispondenti ai valori"
      ],
      "metadata": {
        "id": "WXx1fU0IEAnR"
      },
      "execution_count": null,
      "outputs": []
    },
    {
      "cell_type": "code",
      "source": [
        "for numero, number in dizionarioITEN.items():\n",
        "  print(numero, '-', number) \n",
        "  #prende la coppia di chiave valore"
      ],
      "metadata": {
        "id": "PduutaFzfpVE"
      },
      "execution_count": null,
      "outputs": []
    },
    {
      "cell_type": "code",
      "source": [
        "for numero in dizionarioITEN: #numero assume il valore di tutte le chiavi\n",
        "  print(numero, '-', dizionarioITEN[numero]) #va a prendereil valore di quella chiave"
      ],
      "metadata": {
        "id": "jJ9JxcqZgN4V"
      },
      "execution_count": null,
      "outputs": []
    },
    {
      "cell_type": "code",
      "source": [
        "studenti_3E = [{'nome': 'Leo','città di provenienza' : 'precotto'},{'nome': 'Fil','città di provenienza' : 'milano'},{'nome': 'Andrea', 'città di provenienza' : 'milano'}]\n",
        "print(studenti_3E)"
      ],
      "metadata": {
        "id": "nmly5Mx4EnGB"
      },
      "execution_count": null,
      "outputs": []
    },
    {
      "cell_type": "code",
      "source": [
        "len(studenti_3E)"
      ],
      "metadata": {
        "id": "bycS9dDJFsIQ"
      },
      "execution_count": null,
      "outputs": []
    },
    {
      "cell_type": "code",
      "source": [
        "for studente in studenti_3E: #tutto il dizionario\n",
        "  print(studente)"
      ],
      "metadata": {
        "id": "N1zEt1SiJiZD"
      },
      "execution_count": null,
      "outputs": []
    },
    {
      "cell_type": "code",
      "source": [
        "for studente in studenti_3E: #solo nomi\n",
        "  print(studente['nome'])"
      ],
      "metadata": {
        "id": "HUqNPAkdJ3TY"
      },
      "execution_count": null,
      "outputs": []
    },
    {
      "cell_type": "code",
      "source": [
        "studenti_3E_bis= [{'generalità':{'nome':'Leo','cognome':'dari'},'città di provenienza' : 'precotto'},{'generalità':{'nome': 'Fil','cognome':'dari'}, 'città di provenienza' : 'milano'},{'generalità':{'nome': 'Andrea','cognome':'dari'},'città di provenienza' : 'milano'}]\n",
        "print(studenti_3E_bis)"
      ],
      "metadata": {
        "id": "b5YLhCbMKWcZ"
      },
      "execution_count": null,
      "outputs": []
    },
    {
      "cell_type": "code",
      "source": [
        "len(studenti_3E_bis)"
      ],
      "metadata": {
        "id": "qFWeHxhLLOa4"
      },
      "execution_count": null,
      "outputs": []
    },
    {
      "cell_type": "code",
      "source": [
        "for studente in studenti_3E_bis: \n",
        "  print(studente)"
      ],
      "metadata": {
        "id": "LmAvklQWLUvJ"
      },
      "execution_count": null,
      "outputs": []
    },
    {
      "cell_type": "code",
      "source": [
        "for studente in studenti_3E_bis: \n",
        "  print(studente['generalità']) # tutte le generalità"
      ],
      "metadata": {
        "id": "TSbVcHkJLbo4"
      },
      "execution_count": null,
      "outputs": []
    },
    {
      "cell_type": "code",
      "source": [
        "for studente in studenti_3E_bis: \n",
        "  print(studente['generalità']['nome']) #solo nome "
      ],
      "metadata": {
        "id": "jCwVaEeoLjY6"
      },
      "execution_count": null,
      "outputs": []
    },
    {
      "cell_type": "code",
      "source": [
        "studenti_3E_bis[1]['generalità']['nome'] #solo nome del 2 studente"
      ],
      "metadata": {
        "id": "d8sN5ztnLwBZ"
      },
      "execution_count": null,
      "outputs": []
    },
    {
      "cell_type": "code",
      "source": [
        "studenti_3E_tris= [{'generalità':{'nome':'Leo','cognome':'dari'},'città di provenienza' : 'precotto'},{'telefono':['324335', '436278']},{'generalità':{'nome': 'Fil','cognome':'dari'}, 'città di provenienza' : 'milano'},{'telefono':['324335', '436278']},{'generalità':{'nome': 'Andrea','cognome':'dari'},'città di provenienza' : 'milano'}, {'telefono':['324335', '436278']}]\n",
        "print(studenti_3E_tris)"
      ],
      "metadata": {
        "id": "KSqHNdo-Mr4B"
      },
      "execution_count": null,
      "outputs": []
    },
    {
      "cell_type": "code",
      "source": [
        "studenti_3E_tris[1]['telefono'][0] #primo numero di telefono del secondo studente"
      ],
      "metadata": {
        "id": "heuemJlLNY7R"
      },
      "execution_count": null,
      "outputs": []
    }
  ]
}