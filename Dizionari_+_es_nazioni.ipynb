{
  "nbformat": 4,
  "nbformat_minor": 0,
  "metadata": {
    "colab": {
      "provenance": [],
      "collapsed_sections": [
        "YXIGwkL_N-w2",
        "6Y4p9e0sWixs",
        "ipLNR0X5Xfv6"
      ],
      "include_colab_link": true
    },
    "kernelspec": {
      "name": "python3",
      "display_name": "Python 3"
    },
    "language_info": {
      "name": "python"
    }
  },
  "cells": [
    {
      "cell_type": "markdown",
      "metadata": {
        "id": "view-in-github",
        "colab_type": "text"
      },
      "source": [
        "<a href=\"https://colab.research.google.com/github/FontanaDaniel1/Dizionari/blob/main/Dizionari_%2B_es_nazioni.ipynb\" target=\"_parent\"><img src=\"https://colab.research.google.com/assets/colab-badge.svg\" alt=\"Open In Colab\"/></a>"
      ]
    },
    {
      "cell_type": "markdown",
      "source": [
        "#Dizionari\n",
        "da https://www.w3schools.com/python/python_dictionaries.asp"
      ],
      "metadata": {
        "id": "YXIGwkL_N-w2"
      }
    },
    {
      "cell_type": "markdown",
      "source": [
        "I Dizionari sono collezioni ordinate, utilizzate per registrare serie di coppie di valori, formate da una chiave (Key) e un valore (Value)."
      ],
      "metadata": {
        "id": "r8THPYSqOSfg"
      }
    },
    {
      "cell_type": "code",
      "execution_count": null,
      "metadata": {
        "colab": {
          "base_uri": "https://localhost:8080/"
        },
        "id": "nDDWFMCGIJO0",
        "outputId": "56c0e820-f753-496d-e738-06940b952ffe"
      },
      "outputs": [
        {
          "output_type": "stream",
          "name": "stdout",
          "text": [
            "{'genere': 'maschio', 'età': 15, 'altezza': 200}\n"
          ]
        }
      ],
      "source": [
        "#Esempio\n",
        "carlo = {\n",
        "    \"genere\":\"maschio\",\n",
        "    \"età\":15,\n",
        "    \"altezza\":200\n",
        "}\n",
        "print(carlo)"
      ]
    },
    {
      "cell_type": "markdown",
      "source": [
        "Gli elementi all'interno dei dizionari sono ordinati, modificabili e non consentono duplicati."
      ],
      "metadata": {
        "id": "bW9ZbTJgP14h"
      }
    },
    {
      "cell_type": "code",
      "source": [
        "#Esempio\n",
        "carlo = {\n",
        "    \"genere\":\"femmina\",\n",
        "    \"genere\":\"maschio\",\n",
        "    \"età\":15,\n",
        "    \"altezza\":200\n",
        "}\n",
        "\n",
        "#La chiave \"genere\" ripetendosi 2 volte, verrà presa in considerazione solo l'ultima.\n",
        "\n",
        "print(carlo)"
      ],
      "metadata": {
        "colab": {
          "base_uri": "https://localhost:8080/"
        },
        "id": "N6yqzoZcQAVL",
        "outputId": "8cf6c153-9a4a-4b15-c0e7-03a9875261c8"
      },
      "execution_count": null,
      "outputs": [
        {
          "output_type": "stream",
          "name": "stdout",
          "text": [
            "{'genere': 'maschio', 'età': 15, 'altezza': 200}\n"
          ]
        }
      ]
    },
    {
      "cell_type": "code",
      "source": [
        "#Esempio\n",
        "carlo = {\n",
        "    \"genere\":\"maschio\",\n",
        "    \"età\":15,\n",
        "    \"altezza\":200\n",
        "}\n",
        "\n",
        "#Trattandosi di una collezione modificabile, possono essere aggiunti nuovi elementi\n",
        "carlo.update({\"cognome\":\"Borgheresi\"})\n",
        "carlo[\"capelli\"] = \"neri\"\n",
        "\n",
        "#Possono essere modificati\n",
        "carlo[\"genere\"] = \"femmina\"\n",
        "\n",
        "#Possono essere rimossi\n",
        "carlo.pop(\"età\")\n",
        "\n",
        "print(carlo)"
      ],
      "metadata": {
        "colab": {
          "base_uri": "https://localhost:8080/"
        },
        "id": "-1w-WihFSl3a",
        "outputId": "b90b1206-c2c8-4833-f3de-6188d38bfc48"
      },
      "execution_count": null,
      "outputs": [
        {
          "output_type": "stream",
          "name": "stdout",
          "text": [
            "{'genere': 'femmina', 'altezza': 200, 'cognome': 'Borgheresi', 'capelli': 'neri'}\n"
          ]
        }
      ]
    },
    {
      "cell_type": "markdown",
      "source": [
        "Dizionari Nidificati - Nested Dictionaries"
      ],
      "metadata": {
        "id": "pevffdq1WcRY"
      }
    },
    {
      "cell_type": "code",
      "source": [
        "#Un dizionario può contenere altri dizionari\n",
        "\n",
        "famiglia = {\n",
        "    \"figlio0\" : {\n",
        "        \"nome\" : \"carlo\",\n",
        "        \"età\" : 15,\n",
        "        \"altezza\":200\n",
        "    },\n",
        "    \"figlio1\" : {\n",
        "            \"nome\" : \"gianni\",\n",
        "            \"età\" : 12,\n",
        "            \"altezza\":150\n",
        "        },\n",
        "}\n",
        "\n",
        "print(famiglia)\n",
        "\n",
        "#Puoi anche creare dei Dizionari formati da altri già esistenti\n",
        "\n",
        "figlio0 = {\n",
        "    \"nome\" : \"carlo\",\n",
        "    \"età\":15,\n",
        "    \"altezza\":200\n",
        "}\n",
        "\n",
        "figlio1 = {\n",
        "    \"nome\" : \"gianni\",\n",
        "    \"età\":12,\n",
        "    \"altezza\":150\n",
        "}\n",
        "\n",
        "famiglia = {\n",
        "    \"figlio0\" : figlio0,\n",
        "    \"figlio1\" : figlio1\n",
        "}\n",
        "\n",
        "\n",
        "print(famiglia)"
      ],
      "metadata": {
        "colab": {
          "base_uri": "https://localhost:8080/"
        },
        "id": "64vppF3PpRAn",
        "outputId": "e92470c3-2dbb-4b2a-d432-378f1d24af3d"
      },
      "execution_count": null,
      "outputs": [
        {
          "output_type": "stream",
          "name": "stdout",
          "text": [
            "{'figlio0': {'nome': 'carlo', 'età': 15, 'altezza': 200}, 'figlio1': {'nome': 'gianni', 'età': 12, 'altezza': 150}}\n",
            "{'figlio0': {'nome': 'carlo', 'età': 15, 'altezza': 200}, 'figlio1': {'nome': 'gianni', 'età': 12, 'altezza': 150}}\n"
          ]
        }
      ]
    },
    {
      "cell_type": "markdown",
      "source": [
        "#Loop con i Dizionari\n",
        "da https://www.w3schools.com/python/python_dictionaries_loop.asp"
      ],
      "metadata": {
        "id": "6Y4p9e0sWixs"
      }
    },
    {
      "cell_type": "code",
      "source": [
        "#Ecco un elenco di for loops per visualizzare in un altro modo i \n",
        "\n",
        "carlo = {\n",
        "    \"genere\":\"maschio\",\n",
        "    \"età\":15,\n",
        "    \"altezza\":200\n",
        "}\n",
        "\n",
        "#Per visualizzare tutte le Chiavi\n",
        "\n",
        "for key in carlo:\n",
        "  print(key)\n",
        "\n",
        "#Oppure\n",
        "\n",
        "for key in carlo.keys():\n",
        "  print(key)"
      ],
      "metadata": {
        "id": "4E0iA6J4Wgt8",
        "colab": {
          "base_uri": "https://localhost:8080/"
        },
        "outputId": "0a59dfe2-2e21-495e-9c71-76db6d884a37"
      },
      "execution_count": null,
      "outputs": [
        {
          "output_type": "stream",
          "name": "stdout",
          "text": [
            "genere\n",
            "età\n",
            "altezza\n",
            "genere\n",
            "età\n",
            "altezza\n"
          ]
        }
      ]
    },
    {
      "cell_type": "code",
      "source": [
        "#Per visualizzare tutti i Valori\n",
        "\n",
        "for key in carlo:\n",
        "  print(carlo[key])\n",
        "\n",
        "#Oppure\n",
        "\n",
        "for value in carlo.values():\n",
        "  print(value)"
      ],
      "metadata": {
        "colab": {
          "base_uri": "https://localhost:8080/"
        },
        "id": "uAyG4YdZYCdn",
        "outputId": "7556287a-cd6e-493e-9202-c3d0cc2daca6"
      },
      "execution_count": null,
      "outputs": [
        {
          "output_type": "stream",
          "name": "stdout",
          "text": [
            "maschio\n",
            "15\n",
            "200\n",
            "maschio\n",
            "15\n",
            "200\n"
          ]
        }
      ]
    },
    {
      "cell_type": "code",
      "source": [
        "#Per visualizzare tutte le coppie Chiave-Valore\n",
        "\n",
        "for key, value in carlo.items():\n",
        "  print(key, value)"
      ],
      "metadata": {
        "id": "5rhN_aaQYDxb",
        "colab": {
          "base_uri": "https://localhost:8080/"
        },
        "outputId": "96eb8121-4fc1-4a88-b8da-7c864c01ddff"
      },
      "execution_count": null,
      "outputs": [
        {
          "output_type": "stream",
          "name": "stdout",
          "text": [
            "genere maschio\n",
            "età 15\n",
            "altezza 200\n"
          ]
        }
      ]
    },
    {
      "cell_type": "markdown",
      "source": [
        "#Metodi\n",
        "da https://www.w3schools.com/python/python_dictionaries_methods.asp"
      ],
      "metadata": {
        "id": "ipLNR0X5Xfv6"
      }
    },
    {
      "cell_type": "markdown",
      "source": [
        "clear()"
      ],
      "metadata": {
        "id": "RZH9o_PkneKF"
      }
    },
    {
      "cell_type": "code",
      "source": [
        "#Rimuove tutti gli elementi all'interno di un Dizionario\n",
        "\n",
        "LuigiXVI = {\n",
        "    \"genere\":\"maschio\",\n",
        "    \"età\":38\n",
        "}\n",
        "\n",
        "LuigiXVI.clear()\n",
        "print(LuigiXVI)"
      ],
      "metadata": {
        "colab": {
          "base_uri": "https://localhost:8080/"
        },
        "id": "geOu2L5XnduZ",
        "outputId": "867c359b-812c-4745-e70f-1f43a6327200"
      },
      "execution_count": null,
      "outputs": [
        {
          "output_type": "stream",
          "name": "stdout",
          "text": [
            "{}\n"
          ]
        }
      ]
    },
    {
      "cell_type": "markdown",
      "source": [
        "copy()"
      ],
      "metadata": {
        "id": "ZjjYATHYpE-1"
      }
    },
    {
      "cell_type": "code",
      "source": [
        "#Copia gli elementi di un Dizionario in un altro\n",
        "\n",
        "fifa22 = {\n",
        "    \"sviluppo\":\"EA Sports\",\n",
        "    \"genere\":\"Calcio\",\n",
        "    \"prezzo\":\"70€\" \n",
        "}\n",
        "\n",
        "fifa23 = fifa22.copy()\n",
        "print(fifa23)"
      ],
      "metadata": {
        "id": "m28vqGVyXkkh",
        "colab": {
          "base_uri": "https://localhost:8080/"
        },
        "outputId": "11ad03d6-5213-44c0-c8cb-f5ac6fde0508"
      },
      "execution_count": null,
      "outputs": [
        {
          "output_type": "stream",
          "name": "stdout",
          "text": [
            "{'sviluppo': 'EA Sports', 'genere': 'Calcio', 'prezzo': '70€'}\n"
          ]
        }
      ]
    },
    {
      "cell_type": "markdown",
      "source": [
        "fromkeys()"
      ],
      "metadata": {
        "id": "Usj_IUoDpS4x"
      }
    },
    {
      "cell_type": "code",
      "source": [
        "#Assegna ad ogni chiave un valore uguale\n",
        "#Le chiavi sono prese da una tupla e il valore da una seconda varibile\n",
        "\n",
        "key = (\"autostima\", \"motivazione\", \"felicità\")\n",
        "value = 0\n",
        "\n",
        "vita = dict.fromkeys(key, value)\n",
        "print(vita)\n"
      ],
      "metadata": {
        "colab": {
          "base_uri": "https://localhost:8080/"
        },
        "id": "cXRMnpbdpSzE",
        "outputId": "dcf9095f-1135-4b83-8eb8-c2f8eeb6ba8f"
      },
      "execution_count": null,
      "outputs": [
        {
          "output_type": "stream",
          "name": "stdout",
          "text": [
            "{'autostima': 0, 'motivazione': 0, 'felicità': 0}\n"
          ]
        }
      ]
    },
    {
      "cell_type": "markdown",
      "source": [
        "get()"
      ],
      "metadata": {
        "id": "CqZOSAEPpSs9"
      }
    },
    {
      "cell_type": "code",
      "source": [
        "#Prende il valore associato alla chiave specificata\n",
        "\n",
        "carlo = {\n",
        "    \"genere\":\"maschio\",\n",
        "    \"età\":15,\n",
        "    \"altezza\":200\n",
        "}\n",
        "\n",
        "centimetri = carlo.get('altezza')\n",
        "print(centimetri)\n",
        "\n",
        "#Prende anche il valore di un elemento che non è presente nella lista\n",
        "\n",
        "fidanzata = carlo.get('fidanzata')\n",
        "print(fidanzata)\n",
        "print(carlo)"
      ],
      "metadata": {
        "colab": {
          "base_uri": "https://localhost:8080/"
        },
        "id": "Dapxx67apSnI",
        "outputId": "464c4439-0e92-42fb-ba92-535d44b6ac93"
      },
      "execution_count": null,
      "outputs": [
        {
          "output_type": "stream",
          "name": "stdout",
          "text": [
            "200\n",
            "None\n",
            "{'genere': 'maschio', 'età': 15, 'altezza': 200}\n"
          ]
        }
      ]
    },
    {
      "cell_type": "markdown",
      "source": [
        "items()"
      ],
      "metadata": {
        "id": "fxLbRNnypShc"
      }
    },
    {
      "cell_type": "code",
      "source": [
        "#Restituisce un view object che contiene come lista le coppie di chiave-valore in un Dizionario\n",
        "\n",
        "carlo = {\n",
        "    \"genere\":\"maschio\",\n",
        "    \"età\":15,\n",
        "    \"altezza\":200\n",
        "}\n",
        "\n",
        "studente1 = carlo.items()\n",
        "print(studente1)\n"
      ],
      "metadata": {
        "colab": {
          "base_uri": "https://localhost:8080/"
        },
        "id": "Y6zYBRXMpSb7",
        "outputId": "cd8dc753-fb82-40c7-f07c-9fdf23b1d1ae"
      },
      "execution_count": null,
      "outputs": [
        {
          "output_type": "stream",
          "name": "stdout",
          "text": [
            "dict_items([('genere', 'maschio'), ('età', 15), ('altezza', 200)])\n"
          ]
        }
      ]
    },
    {
      "cell_type": "code",
      "source": [
        "#Quando un elemento all'interno del Dizionario cambia valore, cambia anche nella nuova variabile\n",
        "\n",
        "carlo = {\n",
        "    \"genere\":\"maschio\",\n",
        "    \"età\":15,\n",
        "    \"altezza\":200\n",
        "}\n",
        "\n",
        "studente1 = carlo.items()\n",
        "print(studente1)\n",
        "\n",
        "carlo['età'] = 16\n",
        "print(studente1)"
      ],
      "metadata": {
        "colab": {
          "base_uri": "https://localhost:8080/"
        },
        "id": "JrvLfiWwxk9C",
        "outputId": "a32a2520-a69b-4de4-b665-6fe942e503b1"
      },
      "execution_count": null,
      "outputs": [
        {
          "output_type": "stream",
          "name": "stdout",
          "text": [
            "dict_items([('genere', 'maschio'), ('età', 15), ('altezza', 200)])\n",
            "dict_items([('genere', 'maschio'), ('età', 16), ('altezza', 200)])\n"
          ]
        }
      ]
    },
    {
      "cell_type": "markdown",
      "source": [
        "keys()"
      ],
      "metadata": {
        "id": "JTHihs1xpSUd"
      }
    },
    {
      "cell_type": "code",
      "source": [
        "#Restituisce un view object che contiene come lista le chiavi in un Dizionario\n",
        "\n",
        "carlo = {\n",
        "    \"genere\":\"maschio\",\n",
        "    \"età\":15,\n",
        "    \"altezza\":200\n",
        "}\n",
        "\n",
        "umano = carlo.keys()\n",
        "print(umano)\n",
        "\n",
        "#Riflette i cambiamenti\n",
        "\n",
        "carlo['capelli'] = 'neri'\n",
        "print(umano)"
      ],
      "metadata": {
        "colab": {
          "base_uri": "https://localhost:8080/"
        },
        "id": "CD9N1TzwpSOx",
        "outputId": "a20d2527-d741-44e0-b197-7435c2d24dce"
      },
      "execution_count": null,
      "outputs": [
        {
          "output_type": "stream",
          "name": "stdout",
          "text": [
            "dict_keys(['genere', 'età', 'altezza'])\n",
            "dict_keys(['genere', 'età', 'altezza', 'capelli'])\n"
          ]
        }
      ]
    },
    {
      "cell_type": "markdown",
      "source": [
        "values()"
      ],
      "metadata": {
        "id": "NLXngcuqAH0i"
      }
    },
    {
      "cell_type": "code",
      "source": [
        "#Restituisce un view object che contiene come lista i valori in un Dizionario\n",
        "\n",
        "carlo = {\n",
        "    \"genere\":\"maschio\",\n",
        "    \"età\":15,\n",
        "    \"altezza\":200\n",
        "}\n",
        "\n",
        "decontensto = carlo.values()\n",
        "print(decontensto)\n"
      ],
      "metadata": {
        "colab": {
          "base_uri": "https://localhost:8080/"
        },
        "id": "gp9E3QzgAIE7",
        "outputId": "7bc5e30f-f137-4cf4-d104-3db98603848b"
      },
      "execution_count": null,
      "outputs": [
        {
          "output_type": "stream",
          "name": "stdout",
          "text": [
            "dict_values(['maschio', 15, 200])\n"
          ]
        }
      ]
    },
    {
      "cell_type": "markdown",
      "source": [
        "pop()"
      ],
      "metadata": {
        "id": "0x2lS3f7pSJQ"
      }
    },
    {
      "cell_type": "code",
      "source": [
        "#Rimuove una chiave e il suo valore dal Dizionario\n",
        "\n",
        "carlo = {\n",
        "    \"genere\":\"maschio\",\n",
        "    \"età\":15,\n",
        "    \"altezza\":200\n",
        "}\n",
        "\n",
        "carlo.pop('genere')\n",
        "print(carlo)"
      ],
      "metadata": {
        "colab": {
          "base_uri": "https://localhost:8080/"
        },
        "id": "5fErBMT2pSCl",
        "outputId": "97d66b68-68d6-4520-f6ea-a17adfe9b640"
      },
      "execution_count": null,
      "outputs": [
        {
          "output_type": "stream",
          "name": "stdout",
          "text": [
            "{'età': 15, 'altezza': 200}\n"
          ]
        }
      ]
    },
    {
      "cell_type": "markdown",
      "source": [
        "popitem()"
      ],
      "metadata": {
        "id": "j9G0cSVUpR7H"
      }
    },
    {
      "cell_type": "code",
      "source": [
        "#Rimuove l'ultimo elemento aggiunto e restituisce un view object contenente esso \n",
        "\n",
        "carlo = {\n",
        "    \"genere\":\"maschio\",\n",
        "    \"età\":15,\n",
        "    \"altezza\":200\n",
        "}\n",
        "\n",
        "carlo.popitem()\n",
        "print(carlo)\n",
        "\n",
        "cestino = carlo.popitem()\n",
        "print(cestino)"
      ],
      "metadata": {
        "colab": {
          "base_uri": "https://localhost:8080/"
        },
        "id": "82bFxjs2pRvu",
        "outputId": "b274bc47-1bb9-4341-c011-49b00636efac"
      },
      "execution_count": null,
      "outputs": [
        {
          "output_type": "stream",
          "name": "stdout",
          "text": [
            "{'genere': 'maschio', 'età': 15}\n",
            "('età', 15)\n"
          ]
        }
      ]
    },
    {
      "cell_type": "markdown",
      "source": [
        "setdefault()"
      ],
      "metadata": {
        "id": "xYiXYi4YpOpo"
      }
    },
    {
      "cell_type": "code",
      "source": [
        "#Restituisce il valore associato alla chiave specificata\n",
        "\n",
        "carlo = {\n",
        "    \"genere\":\"maschio\",\n",
        "    \"età\":15,\n",
        "    \"altezza\":200\n",
        "}\n",
        "\n",
        "vecchiaia = carlo.setdefault('età')\n",
        "print(vecchiaia)\n",
        "\n",
        "vecchiaia = carlo.setdefault('capelli')\n",
        "print(vecchiaia)"
      ],
      "metadata": {
        "colab": {
          "base_uri": "https://localhost:8080/"
        },
        "id": "V5K1qn0lpP0U",
        "outputId": "4874c216-fbc8-4b9e-d9af-eae63e340784"
      },
      "execution_count": null,
      "outputs": [
        {
          "output_type": "stream",
          "name": "stdout",
          "text": [
            "15\n",
            "None\n"
          ]
        }
      ]
    },
    {
      "cell_type": "markdown",
      "source": [
        "#Esercizi"
      ],
      "metadata": {
        "id": "9lej0yFSn9Jq"
      }
    },
    {
      "cell_type": "markdown",
      "source": [
        "1. Crea un dizionario che contenga il tuo nome, cognome ed età "
      ],
      "metadata": {
        "id": "PApSI38XoAVv"
      }
    },
    {
      "cell_type": "code",
      "source": [
        "papes={\n",
        "    \"nome\":\"Enki\",\n",
        "    \"cognome\":\"Papes\",\n",
        "    \"età\":17,\n",
        "}\n",
        "print(papes)"
      ],
      "metadata": {
        "id": "QqMTHnZKn_Vk",
        "colab": {
          "base_uri": "https://localhost:8080/"
        },
        "outputId": "aed97e8c-4d30-46d2-f53a-4b4909eb6924"
      },
      "execution_count": null,
      "outputs": [
        {
          "output_type": "stream",
          "name": "stdout",
          "text": [
            "{'nome': 'Enki', 'cognome': 'Papes', 'età': 17}\n"
          ]
        }
      ]
    },
    {
      "cell_type": "markdown",
      "source": [
        "2. Aggiungi al dizionario la tua altezza"
      ],
      "metadata": {
        "id": "S7Ibgr1GoXLf"
      }
    },
    {
      "cell_type": "code",
      "source": [
        "papes[\"altezza\"] = 190\n",
        "print(papes)"
      ],
      "metadata": {
        "id": "bhKQszWGp1U_",
        "colab": {
          "base_uri": "https://localhost:8080/"
        },
        "outputId": "1fc72291-fdd0-45c4-e3d2-ac2553b9d02c"
      },
      "execution_count": null,
      "outputs": [
        {
          "output_type": "stream",
          "name": "stdout",
          "text": [
            "{'nome': 'Enki', 'cognome': 'Papes', 'età': 17, 'altezza': 190}\n"
          ]
        }
      ]
    },
    {
      "cell_type": "markdown",
      "source": [
        "3. Cambia la tua altezza con quella di Goku (175 cm)"
      ],
      "metadata": {
        "id": "-RXBHj9np1h5"
      }
    },
    {
      "cell_type": "code",
      "source": [
        "papes[\"altezza\"] = 175\n",
        "print(papes)"
      ],
      "metadata": {
        "id": "_TxY5IyFqKMs",
        "colab": {
          "base_uri": "https://localhost:8080/"
        },
        "outputId": "a84f33da-d7a1-4fe0-b9f0-ee21a3ff9846"
      },
      "execution_count": null,
      "outputs": [
        {
          "output_type": "stream",
          "name": "stdout",
          "text": [
            "{'nome': 'Enki', 'cognome': 'Papes', 'età': 17, 'altezza': 175}\n"
          ]
        }
      ]
    },
    {
      "cell_type": "markdown",
      "source": [
        "4. Visualizza il numero di chiavi"
      ],
      "metadata": {
        "id": "iGniB7HzqKZ6"
      }
    },
    {
      "cell_type": "code",
      "source": [
        "len(papes.keys())"
      ],
      "metadata": {
        "id": "XZXX713PqrTU",
        "colab": {
          "base_uri": "https://localhost:8080/"
        },
        "outputId": "1a77afb4-68d1-46d1-b9fb-fd7aca3d72c5"
      },
      "execution_count": null,
      "outputs": [
        {
          "output_type": "execute_result",
          "data": {
            "text/plain": [
              "4"
            ]
          },
          "metadata": {},
          "execution_count": 23
        }
      ]
    },
    {
      "cell_type": "code",
      "source": [
        "len(papes)"
      ],
      "metadata": {
        "colab": {
          "base_uri": "https://localhost:8080/"
        },
        "id": "FmmRBQj8HifT",
        "outputId": "4a052ae8-b153-493d-8d41-1cdb79d37727"
      },
      "execution_count": null,
      "outputs": [
        {
          "output_type": "execute_result",
          "data": {
            "text/plain": [
              "4"
            ]
          },
          "metadata": {},
          "execution_count": 24
        }
      ]
    },
    {
      "cell_type": "markdown",
      "source": [
        "5. Visualizza la seconda chiave"
      ],
      "metadata": {
        "id": "q_0zk6mrqt7-"
      }
    },
    {
      "cell_type": "code",
      "source": [
        "keys=list(papes.keys())\n",
        "print(keys[1])"
      ],
      "metadata": {
        "id": "HgYlBic4qsxE",
        "colab": {
          "base_uri": "https://localhost:8080/"
        },
        "outputId": "170e0219-a809-4213-d5c3-b46a64d88270"
      },
      "execution_count": null,
      "outputs": [
        {
          "output_type": "stream",
          "name": "stdout",
          "text": [
            "cognome\n"
          ]
        }
      ]
    },
    {
      "cell_type": "markdown",
      "source": [
        "6. Crea un nuovo dizionario uguale al primo"
      ],
      "metadata": {
        "id": "dIauu1huqsat"
      }
    },
    {
      "cell_type": "code",
      "source": [
        "papes2=papes.copy()\n",
        "print(papes2)"
      ],
      "metadata": {
        "id": "m0gS8qXIquaQ",
        "colab": {
          "base_uri": "https://localhost:8080/"
        },
        "outputId": "78e89777-ed15-49ee-bc96-21e104737886"
      },
      "execution_count": null,
      "outputs": [
        {
          "output_type": "stream",
          "name": "stdout",
          "text": [
            "{'nome': 'Enki', 'cognome': 'Papes', 'età': 17, 'altezza': 175}\n"
          ]
        }
      ]
    },
    {
      "cell_type": "markdown",
      "source": [
        "7. Svuota il nuovo dizionario e visualizza il primo"
      ],
      "metadata": {
        "id": "WYoAw7Morar-"
      }
    },
    {
      "cell_type": "code",
      "source": [
        "papes2.clear()\n",
        "print(papes)"
      ],
      "metadata": {
        "id": "7WT4q624raW9",
        "colab": {
          "base_uri": "https://localhost:8080/"
        },
        "outputId": "bf8dd7ce-bfc8-4c73-8a00-b138d506e0c7"
      },
      "execution_count": null,
      "outputs": [
        {
          "output_type": "stream",
          "name": "stdout",
          "text": [
            "{'nome': 'Enki', 'cognome': 'Papes', 'età': 17, 'altezza': 175}\n"
          ]
        }
      ]
    },
    {
      "cell_type": "markdown",
      "source": [
        "8. Nel secondo dizionario inserisci le chiavi \"batte\", \"forte\", \"sempre\" e assegna ad ognuna il valore \"comodino\"."
      ],
      "metadata": {
        "id": "XZY5GJA-rilG"
      }
    },
    {
      "cell_type": "code",
      "source": [
        "keys=(\"batte\",\"forte\",\"sempre\")\n",
        "value=\"comodino\"\n",
        "papes2=dict.fromkeys(keys,value)\n",
        "print(papes2)"
      ],
      "metadata": {
        "id": "R8wJB1aeri8j",
        "colab": {
          "base_uri": "https://localhost:8080/"
        },
        "outputId": "543dd15f-8b0b-4c37-d367-cc87af5cd3e0"
      },
      "execution_count": null,
      "outputs": [
        {
          "output_type": "stream",
          "name": "stdout",
          "text": [
            "{'batte': 'comodino', 'forte': 'comodino', 'sempre': 'comodino'}\n"
          ]
        }
      ]
    },
    {
      "cell_type": "markdown",
      "source": [
        "9. Visualizza con un ciclo tutti gli elementi presenti nel secondo dizionario"
      ],
      "metadata": {
        "id": "MdEW9kpZss6B"
      }
    },
    {
      "cell_type": "code",
      "source": [
        "for key in papes2:\n",
        "  print(key,papes2[key])"
      ],
      "metadata": {
        "id": "RZE6VL--tEXw",
        "colab": {
          "base_uri": "https://localhost:8080/"
        },
        "outputId": "cdb9cd94-54f4-47bf-ec9d-6f6a01d53664"
      },
      "execution_count": null,
      "outputs": [
        {
          "output_type": "stream",
          "name": "stdout",
          "text": [
            "batte comodino\n",
            "forte comodino\n",
            "sempre comodino\n"
          ]
        }
      ]
    },
    {
      "cell_type": "markdown",
      "source": [
        "10. Rimuovi il valore della seconda chiave del secondo dizionario"
      ],
      "metadata": {
        "id": "QYRBcxZhtErM"
      }
    },
    {
      "cell_type": "code",
      "source": [],
      "metadata": {
        "id": "6ALtbmqRudyG"
      },
      "execution_count": null,
      "outputs": []
    },
    {
      "cell_type": "markdown",
      "source": [
        "11. Crea un dizionario chiamato Dizionarione che contenga sia il primo che il secondo"
      ],
      "metadata": {
        "id": "VRmozyp2upEl"
      }
    },
    {
      "cell_type": "code",
      "source": [],
      "metadata": {
        "id": "TOc3AwPbuonN"
      },
      "execution_count": null,
      "outputs": []
    },
    {
      "cell_type": "markdown",
      "source": [
        "12. Aggiungi a Dizionarione un terzo dizionario che contenga 3 chiavi e 3 valori a tua scelta"
      ],
      "metadata": {
        "id": "wZVJ4FHywgRz"
      }
    },
    {
      "cell_type": "code",
      "source": [],
      "metadata": {
        "id": "3yKMd-6qwgg6"
      },
      "execution_count": null,
      "outputs": []
    },
    {
      "cell_type": "markdown",
      "source": [
        "13. Rimuovi il terzo dizionario da Dizionarione e visualizzalo"
      ],
      "metadata": {
        "id": "SR6Qslrou3Fj"
      }
    },
    {
      "cell_type": "code",
      "source": [],
      "metadata": {
        "id": "AJKe5vX9wDcc"
      },
      "execution_count": null,
      "outputs": []
    },
    {
      "cell_type": "markdown",
      "source": [
        "14. si vogliono memorizzare le info riguardanti l'UE. di ogni Nazione si vuole memorizzare il nome, capitale, superficie e popolazione.\n",
        "caricare le info nella struttura dati ritenuta più opportuna.\n",
        "scrivere poi il codice per avere le seguenti info: \n",
        "- dato il nome di una nazione, tutte le sue info\n",
        "- dato il nome di una capitale, visualizzare la nazione appartenente\n",
        "- visualizzare il nome della nazione più estesa\n",
        "- visualizzare la media delle popolazioni presenti"
      ],
      "metadata": {
        "id": "hHRnjVaLvZT2"
      }
    },
    {
      "cell_type": "code",
      "source": [
        "# le 4 richieste(nome, capitale...) in diz\n",
        "nazioni = [\n",
        "    {\n",
        "        \"nome\":\"italia\",\n",
        "        \"capitale\":\"roma\",\n",
        "        \"superficie\": 301230,\n",
        "        \"popolazione\":60000000\n",
        "    }, \n",
        "\n",
        "    {\n",
        "       \"nome\":\"spagna\",\n",
        "        \"capitale\":\"madrid\",\n",
        "        \"superficie\": 505990,\n",
        "        \"popolazione\":47000000\n",
        "    }, \n",
        "\n",
        "    {\n",
        "       \"nome\":\"francia\",\n",
        "        \"capitale\":\"parigi\",\n",
        "        \"superficie\": 54394,\n",
        "        \"popolazione\":67000000\n",
        "    }, \n",
        "\n",
        "    {\n",
        "       \"nome\":\"austria\",\n",
        "        \"capitale\":\"vienna\",\n",
        "        \"superficie\": 83871,\n",
        "        \"popolazione\":8956 \n",
        "    },\n",
        "\n",
        "    {\n",
        "       \"nome\":\"portogallo\",\n",
        "        \"capitale\":\"lisbona\",\n",
        "        \"superficie\": 92212 ,\n",
        "        \"popolazione\":10000000 \n",
        "    },\n",
        "\n",
        "    {\n",
        "       \"nome\":\"germania\",\n",
        "        \"capitale\":\"berlino\",\n",
        "        \"superficie\": 357588,\n",
        "        \"popolazione\":83000000 \n",
        "    },\n",
        "\n",
        "    {\n",
        "       \"nome\":\"romania\",\n",
        "        \"capitale\":\"bucarest\",\n",
        "        \"superficie\": 83871,\n",
        "        \"popolazione\":19000000          \n",
        "    },\n",
        "]\n",
        "\n",
        "print(nazioni)"
      ],
      "metadata": {
        "id": "v6TFZnV9vX4M"
      },
      "execution_count": null,
      "outputs": []
    },
    {
      "cell_type": "code",
      "source": [
        "nazioni[2][\"capitale\"] #richiama la capitale nel diz in pos 2"
      ],
      "metadata": {
        "id": "YDt9heaj2Bcx"
      },
      "execution_count": null,
      "outputs": []
    },
    {
      "cell_type": "code",
      "source": [
        "for i in range(len(nazioni)):\n",
        "  print(nazioni[i][\"capitale\"]) #stapa tutte le capitali(value)"
      ],
      "metadata": {
        "id": "yxD6Bcz-5qwo"
      },
      "execution_count": null,
      "outputs": []
    },
    {
      "cell_type": "code",
      "source": [
        "for nazione in nazioni: #metodo più veloce\n",
        " print(nazione[\"capitale\"])"
      ],
      "metadata": {
        "id": "PyWNZAna6dzI"
      },
      "execution_count": null,
      "outputs": []
    },
    {
      "cell_type": "code",
      "source": [
        "nazione_inserita = input(\"\")\n",
        "for i in nazioni:\n",
        "  if i[\"nome\"] == nazione_inserita: \n",
        "    print(i[\"capitale\"])\n",
        "    print(i[\"superficie\"])\n",
        "    print(i[\"popolazione\"])\n",
        "  elif i[\"capitale\"] == nazione_inserita:\n",
        "    print(i[\"nome\"])\n",
        "   "
      ],
      "metadata": {
        "id": "MTRfc7XB5er4"
      },
      "execution_count": null,
      "outputs": []
    },
    {
      "cell_type": "code",
      "source": [
        "#visualizzare il nome della nazione più estesa\n",
        "superfici = [nazioni[i][\"superficie\"]for i in range(len(nazioni))]\n",
        "print(max(superfici))\n",
        "\n",
        "for i in nazioni:\n",
        "  if max(superfici) == i[\"superficie\"]:\n",
        "    print(i[\"nome\"])"
      ],
      "metadata": {
        "colab": {
          "base_uri": "https://localhost:8080/"
        },
        "id": "AsF7Ks0y_p9n",
        "outputId": "3e7e4685-8256-490c-be4d-70f1f3ebd1bc"
      },
      "execution_count": null,
      "outputs": [
        {
          "output_type": "stream",
          "name": "stdout",
          "text": [
            "spagna\n"
          ]
        }
      ]
    },
    {
      "cell_type": "markdown",
      "source": [
        "15. memorizzare in una opportune struttura dati i nomi di 10 città europee e un altra struttura dati i nomi di 10 capitali.\n",
        "scrivere poi il codice necessario per avere i nomi delle città che sono anche capitali. "
      ],
      "metadata": {
        "id": "q0wz06ZswcQt"
      }
    },
    {
      "cell_type": "code",
      "source": [],
      "metadata": {
        "id": "rxPM-aNlxAn2"
      },
      "execution_count": null,
      "outputs": []
    }
  ]
}